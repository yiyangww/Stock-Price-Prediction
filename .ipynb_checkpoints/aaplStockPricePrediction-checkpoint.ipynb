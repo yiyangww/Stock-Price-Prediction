{
 "cells": [
  {
   "cell_type": "markdown",
   "id": "1dfc45c2",
   "metadata": {},
   "source": [
    "# AAPL Stock Price Prediction - Starter Notebook\n",
    "\n",
    "This notebook implements stock price prediction for AAPL using technical indicators and machine learning models (Linear Regression, SVR, XGBoost). It is based on Tatsat's original structure, customized for your final course project."
   ]
  },
  {
   "cell_type": "markdown",
   "id": "fb2f8d27",
   "metadata": {},
   "source": [
    "## 1. Load Libraries"
   ]
  },
  {
   "cell_type": "code",
   "execution_count": null,
   "id": "773b6868",
   "metadata": {},
   "outputs": [],
   "source": [
    "import pandas as pd\n",
    "import numpy as np\n",
    "import matplotlib.pyplot as plt\n",
    "import seaborn as sns\n",
    "from ta import add_all_ta_features\n",
    "from ta.utils import dropna\n",
    "\n",
    "from sklearn.linear_model import LinearRegression\n",
    "from sklearn.svm import SVR\n",
    "from xgboost import XGBRegressor\n",
    "from sklearn.model_selection import train_test_split, GridSearchCV, TimeSeriesSplit\n",
    "from sklearn.metrics import mean_squared_error, r2_score\n",
    "\n",
    "import warnings\n",
    "warnings.filterwarnings('ignore')"
   ]
  },
  {
   "cell_type": "markdown",
   "id": "efb6d3f0",
   "metadata": {},
   "source": [
    "## 2. Load and Merge Data (AAPL + SPY + VIX)"
   ]
  },
  {
   "cell_type": "code",
   "execution_count": null,
   "id": "c9c901a0",
   "metadata": {},
   "outputs": [],
   "source": [
    "aapl = pd.read_csv(\"AAPL.csv\", index_col='Date', parse_dates=True)\n",
    "spy = pd.read_csv(\"SPY.csv\", index_col='Date', parse_dates=True)\n",
    "vix = pd.read_csv(\"VIX.csv\", index_col='Date', parse_dates=True)\n",
    "\n",
    "df = aapl[['Open', 'High', 'Low', 'Close', 'Volume']].copy()\n",
    "df = df.rename(columns={'Open':'AAPL_Open', 'High':'AAPL_High', 'Low':'AAPL_Low', 'Close':'AAPL_Close', 'Volume':'AAPL_Volume'})\n",
    "df['SPY_Close'] = spy['Close']\n",
    "df['VIX_Close'] = vix['Close']\n",
    "df.dropna(inplace=True)\n",
    "df.head()"
   ]
  },
  {
   "cell_type": "markdown",
   "id": "2428989f",
   "metadata": {},
   "source": [
    "## 3. Add Technical Indicators"
   ]
  },
  {
   "cell_type": "code",
   "execution_count": null,
   "id": "8dea59a5",
   "metadata": {},
   "outputs": [],
   "source": [
    "df = dropna(df)\n",
    "df_indicators = add_all_ta_features(df, open='AAPL_Open', high='AAPL_High', low='AAPL_Low', close='AAPL_Close', volume='AAPL_Volume')\n",
    "df = df_indicators\n",
    "df = df.dropna()\n",
    "df.head()"
   ]
  },
  {
   "cell_type": "markdown",
   "id": "a06d5a3c",
   "metadata": {},
   "source": [
    "## 4. Construct Features and Target"
   ]
  },
  {
   "cell_type": "code",
   "execution_count": null,
   "id": "d3722bc0",
   "metadata": {},
   "outputs": [],
   "source": [
    "df['Target'] = df['AAPL_Close'].shift(-1)\n",
    "df.dropna(inplace=True)\n",
    "\n",
    "features = df.drop(columns=['Target'])\n",
    "target = df['Target']\n",
    "\n",
    "X_train, X_test, y_train, y_test = train_test_split(features, target, shuffle=False, test_size=0.2)\n",
    "print(f'Train shape: {X_train.shape}, Test shape: {X_test.shape}')"
   ]
  },
  {
   "cell_type": "markdown",
   "id": "1d035297",
   "metadata": {},
   "source": [
    "## 5. Model Training and Comparison"
   ]
  },
  {
   "cell_type": "code",
   "execution_count": null,
   "id": "dd015af2",
   "metadata": {},
   "outputs": [],
   "source": [
    "models = {\n",
    "    'Linear Regression': LinearRegression(),\n",
    "    'SVR': SVR(),\n",
    "    'XGBoost': XGBRegressor()\n",
    "}\n",
    "\n",
    "for name, model in models.items():\n",
    "    model.fit(X_train, y_train)\n",
    "    y_pred = model.predict(X_test)\n",
    "    mse = mean_squared_error(y_test, y_pred)\n",
    "    print(f'{name} MSE: {mse:.4f}')"
   ]
  },
  {
   "cell_type": "markdown",
   "id": "88b86198",
   "metadata": {},
   "source": [
    "## 6. Evaluation - Plotting and Metrics"
   ]
  },
  {
   "cell_type": "code",
   "execution_count": null,
   "id": "49402271",
   "metadata": {},
   "outputs": [],
   "source": [
    "plt.figure(figsize=(12, 5))\n",
    "plt.plot(y_test.values, label='Actual')\n",
    "plt.plot(y_pred, label='Predicted')\n",
    "plt.legend()\n",
    "plt.title('AAPL Close Price Prediction')\n",
    "plt.show()"
   ]
  },
  {
   "cell_type": "markdown",
   "id": "83c2e5f3",
   "metadata": {},
   "source": [
    "## 7. Next Steps"
   ]
  },
  {
   "cell_type": "code",
   "execution_count": null,
   "id": "8c66b299",
   "metadata": {},
   "outputs": [],
   "source": [
    "# TODO:\n",
    "# - Add Sharpe Ratio calculation\n",
    "# - Add cumulative return equity curve\n",
    "# - Add feature selection (SelectKBest or correlation)\n",
    "# - Add Monte Carlo test / White Reality Check\n",
    "# - Add additional models or ensembling\n"
   ]
  }
 ],
 "metadata": {},
 "nbformat": 4,
 "nbformat_minor": 5
}
